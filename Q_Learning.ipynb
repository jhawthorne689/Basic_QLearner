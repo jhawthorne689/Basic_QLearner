{
 "cells": [
  {
   "cell_type": "code",
   "execution_count": 2,
   "id": "afe33b62",
   "metadata": {},
   "outputs": [],
   "source": [
    "import numpy as np\n",
    "import pandas as pd\n",
    "import random"
   ]
  },
  {
   "cell_type": "markdown",
   "id": "84ef06fb",
   "metadata": {},
   "source": [
    "## (a.)"
   ]
  },
  {
   "cell_type": "code",
   "execution_count": 6,
   "id": "0cc448da",
   "metadata": {},
   "outputs": [
    {
     "name": "stdout",
     "output_type": "stream",
     "text": [
      "\\begin{tabular}{lrr}\n",
      "\\toprule\n",
      "{} &  A &  B \\\\\n",
      "\\midrule\n",
      "stay &  0 &  0 \\\\\n",
      "move &  0 &  0 \\\\\n",
      "\\bottomrule\n",
      "\\end{tabular}\n",
      "\n"
     ]
    },
    {
     "name": "stderr",
     "output_type": "stream",
     "text": [
      "/var/folders/nv/_v8zd9mj2pndpgy0wx_ydlg40000gn/T/ipykernel_87100/2902145278.py:8: FutureWarning: In future versions `DataFrame.to_latex` is expected to utilise the base implementation of `Styler.to_latex` for formatting and rendering. The arguments signature may therefore change. It is recommended instead to use `DataFrame.style.to_latex` which also contains additional functionality.\n",
      "  print(table.to_latex())\n"
     ]
    }
   ],
   "source": [
    "# For the first case it is equivalent to epsilon = 0\n",
    "a = 0.5\n",
    "g = 0.8\n",
    "iterations = 200\n",
    "initial_state=\"A\"\n",
    "epsilon = 0\n",
    "table = Q_Learning(200, a, g, initial_state, epsilon)\n",
    "print(table.to_latex())"
   ]
  },
  {
   "cell_type": "code",
   "execution_count": 3,
   "id": "87414e40",
   "metadata": {},
   "outputs": [],
   "source": [
    "# Modified Q-Learning\n",
    "def Q_Learning(iterations, alpha, gamma, state, epsilon):\n",
    "    data = {\"A\": [0, 0], \"B\": [0, 0]}\n",
    "    Act = {0: \"move\", 1: \"stay\"}\n",
    "    Q_Table = pd.DataFrame(data, index=[\"stay\", \"move\"])\n",
    "    for i in range(iterations):\n",
    "        \n",
    "        if random.random() > epsilon:\n",
    "            action = Act[np.argmax(Q_Table[state])]\n",
    "        else:\n",
    "            if random.random() > 0.5:\n",
    "                action = 'move'\n",
    "            else: action = 'stay'\n",
    "                \n",
    "        if action == 'move':\n",
    "            r = 0\n",
    "            if state == \"A\":\n",
    "                new_state = \"B\"\n",
    "            else: new_state = \"A\"\n",
    "        else: \n",
    "            r = 1\n",
    "            if state == \"A\":\n",
    "                new_state = \"A\"\n",
    "            else:\n",
    "                new_state = \"B\"\n",
    "        Q_Table[state][action] = (1-alpha)*Q_Table[state][action] + alpha*(r + gamma*np.max(Q_Table[new_state]))\n",
    "        state = new_state\n",
    "        \n",
    "    return Q_Table         "
   ]
  },
  {
   "cell_type": "markdown",
   "id": "74cabdeb",
   "metadata": {},
   "source": [
    "## (b.)"
   ]
  },
  {
   "cell_type": "code",
   "execution_count": 10,
   "id": "583d4f5f",
   "metadata": {},
   "outputs": [
    {
     "name": "stdout",
     "output_type": "stream",
     "text": [
      "\\begin{tabular}{lrr}\n",
      "\\toprule\n",
      "{} &         A &         B \\\\\n",
      "\\midrule\n",
      "stay &  4.647769 &  4.453540 \\\\\n",
      "move &  3.529920 &  3.693711 \\\\\n",
      "\\bottomrule\n",
      "\\end{tabular}\n",
      "\n"
     ]
    },
    {
     "name": "stderr",
     "output_type": "stream",
     "text": [
      "/var/folders/nv/_v8zd9mj2pndpgy0wx_ydlg40000gn/T/ipykernel_87100/1688798974.py:26: SettingWithCopyWarning: \n",
      "A value is trying to be set on a copy of a slice from a DataFrame\n",
      "\n",
      "See the caveats in the documentation: https://pandas.pydata.org/pandas-docs/stable/user_guide/indexing.html#returning-a-view-versus-a-copy\n",
      "  Q_Table[state][action] = (1-alpha)*Q_Table[state][action] + alpha*(r + gamma*np.max(Q_Table[new_state]))\n",
      "/var/folders/nv/_v8zd9mj2pndpgy0wx_ydlg40000gn/T/ipykernel_87100/1648423455.py:7: FutureWarning: In future versions `DataFrame.to_latex` is expected to utilise the base implementation of `Styler.to_latex` for formatting and rendering. The arguments signature may therefore change. It is recommended instead to use `DataFrame.style.to_latex` which also contains additional functionality.\n",
      "  print(table.to_latex())\n"
     ]
    }
   ],
   "source": [
    "a = 0.5\n",
    "g = 0.8\n",
    "iterations = 200\n",
    "initial_state=\"A\"\n",
    "epsilon = 0.5\n",
    "table = Q_Learning(200, a, g, initial_state, epsilon)\n",
    "print(table.to_latex())"
   ]
  },
  {
   "cell_type": "code",
   "execution_count": null,
   "id": "db64d0ae",
   "metadata": {},
   "outputs": [],
   "source": []
  }
 ],
 "metadata": {
  "kernelspec": {
   "display_name": "Python 3 (ipykernel)",
   "language": "python",
   "name": "python3"
  },
  "language_info": {
   "codemirror_mode": {
    "name": "ipython",
    "version": 3
   },
   "file_extension": ".py",
   "mimetype": "text/x-python",
   "name": "python",
   "nbconvert_exporter": "python",
   "pygments_lexer": "ipython3",
   "version": "3.9.16"
  }
 },
 "nbformat": 4,
 "nbformat_minor": 5
}
